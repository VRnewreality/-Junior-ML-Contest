   "source": [
    "video_file = 'D:\\видео для вырезки\\q2023_0622_134832_040.mp4'\n",
    "vidcap = cv2.VideoCapture(video_file)\n",
    "def getFrame(sec):\n",
    "\n",
    "    # создаем папку по названию видео файла\n",
    "    filename, _ = os.path.splitext(video_file)\n",
    "    #filename += \"-moviepy\"\n",
    "    if not os.path.isdir(filename):\n",
    "        os.mkdir(filename)\n",
    "    #сохраняет в указанной папке избражения\n",
    "    os.chdir(filename)\n",
    "\n",
    "    vidcap.set(cv2.CAP_PROP_POS_MSEC,sec*1000)\n",
    "    hasFrames,image = vidcap.read()\n",
    "    if hasFrames:\n",
    "        cv2.imwrite(str(count)+'_X'+\".jpg\", image)     # save frame as JPG file\n",
    "    return hasFrames\n",
    "sec = 0\n",
    "#frameRate = 0.5 #//it will capture image in each 0.5 second\n",
    "frameRate = 0.15\n",
    "\n",
    "count=1\n",
    "success = getFrame(sec)\n",
    "while success:\n",
    "    count = count + 1\n",
    "    #sec1 = sec\n",
    "    #sec = sec + random.uniform(0.3,0.9)\n",
    "    sec = sec + frameRate\n",
    "    #print(sec - sec1)\n",
    "    sec = round(sec, 2)\n",
    "    success = getFrame(sec)"
   ],
   "metadata": {
    "collapsed": false,
    "pycharm": {
     "name": "#%%\n"
    }
   }
  },
  {
   "cell_type": "code",
   "execution_count": null,
   "outputs": [],
   "source": [],
   "metadata": {
    "collapsed": false,
    "pycharm": {
     "name": "#%%\n"
    }
   }
  }
 ],
 "metadata": {
  "kernelspec": {
   "display_name": "Python 3",
   "language": "python",
   "name": "python3"
  },
  "language_info": {
   "codemirror_mode": {
    "name": "ipython",
    "version": 2
   },
   "file_extension": ".py",
   "mimetype": "text/x-python",
   "name": "python",
   "nbconvert_exporter": "python",
   "pygments_lexer": "ipython2",
   "version": "2.7.6"
  }
 },
 "nbformat": 4,
 "nbformat_minor": 0
}
