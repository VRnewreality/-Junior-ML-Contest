{
 "cells": [
  {
   "cell_type": "code",
   "execution_count": 5,
   "metadata": {
    "collapsed": true,
    "pycharm": {
     "name": "#%%\n"
    }
   },
   "outputs": [],
   "source": [
    "import cv2\n",
    "import random\n",
    "import os"
   ]
  },
  {
   "cell_type": "code",
   "execution_count": 3,
   "outputs": [
    {
     "ename": "AttributeError",
     "evalue": "module 'cv' has no attribute 'VideoCapture'",
     "output_type": "error",
     "traceback": [
      "\u001B[1;31m---------------------------------------------------------------------------\u001B[0m",
      "\u001B[1;31mAttributeError\u001B[0m                            Traceback (most recent call last)",
      "Cell \u001B[1;32mIn[3], line 2\u001B[0m\n\u001B[0;32m      1\u001B[0m video_file \u001B[38;5;241m=\u001B[39m \u001B[38;5;124m'\u001B[39m\u001B[38;5;124mD:\u001B[39m\u001B[38;5;124m\\\u001B[39m\u001B[38;5;124mвидео для вырезки\u001B[39m\u001B[38;5;124m\\\u001B[39m\u001B[38;5;124mq2023_0622_134832_040.mp4\u001B[39m\u001B[38;5;124m'\u001B[39m\n\u001B[1;32m----> 2\u001B[0m vidcap \u001B[38;5;241m=\u001B[39m \u001B[43mcv\u001B[49m\u001B[38;5;241;43m.\u001B[39;49m\u001B[43mVideoCapture\u001B[49m(video_file)\n\u001B[0;32m      3\u001B[0m \u001B[38;5;28;01mdef\u001B[39;00m \u001B[38;5;21mgetFrame\u001B[39m(sec):\n\u001B[0;32m      4\u001B[0m \n\u001B[0;32m      5\u001B[0m     \u001B[38;5;66;03m# создаем папку по названию видео файла\u001B[39;00m\n\u001B[0;32m      6\u001B[0m     filename, _ \u001B[38;5;241m=\u001B[39m os\u001B[38;5;241m.\u001B[39mpath\u001B[38;5;241m.\u001B[39msplitext(video_file)\n",
      "\u001B[1;31mAttributeError\u001B[0m: module 'cv' has no attribute 'VideoCapture'"
     ]
    }
   ],
   "source": [
    "video_file = 'D:\\видео для вырезки\\q2023_0622_134832_040.mp4'\n",
    "vidcap = cv2.VideoCapture(video_file)\n",
    "def getFrame(sec):\n",
    "\n",
    "    # создаем папку по названию видео файла\n",
    "    filename, _ = os.path.splitext(video_file)\n",
    "    #filename += \"-moviepy\"\n",
    "    if not os.path.isdir(filename):\n",
    "        os.mkdir(filename)\n",
    "    #сохраняет в указанной папке избражения\n",
    "    os.chdir(filename)\n",
    "\n",
    "    vidcap.set(cv2.CAP_PROP_POS_MSEC,sec*1000)\n",
    "    hasFrames,image = vidcap.read()\n",
    "    if hasFrames:\n",
    "        cv2.imwrite(str(count)+'_X'+\".jpg\", image)     # save frame as JPG file\n",
    "    return hasFrames\n",
    "sec = 0\n",
    "#frameRate = 0.5 #//it will capture image in each 0.5 second\n",
    "frameRate = 0.15\n",
    "\n",
    "count=1\n",
    "success = getFrame(sec)\n",
    "while success:\n",
    "    count = count + 1\n",
    "    #sec1 = sec\n",
    "    #sec = sec + random.uniform(0.3,0.9)\n",
    "    sec = sec + frameRate\n",
    "    #print(sec - sec1)\n",
    "    sec = round(sec, 2)\n",
    "    success = getFrame(sec)"
   ],
   "metadata": {
    "collapsed": false,
    "pycharm": {
     "name": "#%%\n"
    }
   }
  },
  {
   "cell_type": "code",
   "execution_count": null,
   "outputs": [],
   "source": [],
   "metadata": {
    "collapsed": false,
    "pycharm": {
     "name": "#%%\n"
    }
   }
  }
 ],
 "metadata": {
  "kernelspec": {
   "display_name": "Python 3",
   "language": "python",
   "name": "python3"
  },
  "language_info": {
   "codemirror_mode": {
    "name": "ipython",
    "version": 2
   },
   "file_extension": ".py",
   "mimetype": "text/x-python",
   "name": "python",
   "nbconvert_exporter": "python",
   "pygments_lexer": "ipython2",
   "version": "2.7.6"
  }
 },
 "nbformat": 4,
 "nbformat_minor": 0
}